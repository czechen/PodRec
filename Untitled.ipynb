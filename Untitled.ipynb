{
 "cells": [
  {
   "cell_type": "code",
   "execution_count": 9,
   "id": "9ee76915",
   "metadata": {},
   "outputs": [
    {
     "name": "stdout",
     "output_type": "stream",
     "text": [
      "{'0:00 ': '- Introduction', '1:17 ': '- Hamas attack on Israel', '4:10 ': '- Response to attack', '0:28 ': '- History of Hamas', '3:09 ': '- Iran', '4:55 ': '- Al-Aqsa Mosque', '1:20 ': '- Abraham Accords', '0:14 ': '- Trump vs Biden on Middle East', '9:15 ': '- Israeli-Saudi Normalization', '3:26 ': '- How the Israel-Gaza war ends', '7:44 ': '- Benjamin Netanyahu', '1:21 ': '- Palestinian support', '4:01 ': '- Trump 2024', '7:30 ': '- Human nature', '1:04:28 ': '- Geopolitics and negotiation', '1:13:10 ': '- North Korea', '1:21:50 ': '- Personalities of leaders', '1:28:25 ': '- Government bureaucracy', '1:34:11 ': '- Accusations of collusion with Russia', '1:43:50 ': '- Ivanka', '1:49:45 ': '- Father', '1:58:28 ': '- Money and power', '2:07:11 ': '- Trust and betrayal', '2:16:12 ': '- Mohammed bin Salman', '2:38:31 ': '- Israeli–Palestinian peace process', '2:53:01 ': '- Abraham Accords and Arab-Israeli normalization', '2:59:15 ': '- $2 billion Saudi investment', '3:03:07 ': '- Donald Trump', '3:08:13 ': '- War in Ukraine', '3:13:29 ': '- Vladimir Putin', '3:20:48 ': '- China', '3:39:04 ': '- Learning process', '3:45:34 ': '- Hope for the future'}\n",
      "This podcast is already in the dataset\n"
     ]
    }
   ],
   "source": [
    "import pandas as pd\n",
    "from yt_url_extraction import yt_url_extraction\n",
    "\n",
    "df = pd.read_csv('podcasts_data.csv',header=0)\n",
    "\n",
    "data2append = yt_url_extraction('https://www.youtube.com/watch?v=co_MeKSnyAo&t=24s&ab_channel=LexFridman')\n",
    "\n",
    "if not df['link'].isin([data2append['link']]).any():\n",
    "    data_df = pd.DataFrame([data2append])\n",
    "    df = pd.concat([df, data_df], ignore_index=True)\n",
    "    #print(df)\n",
    "else:\n",
    "    print(\"This podcast is already in the dataset\")\n",
    "\n",
    "df.to_csv('podcasts_data.csv',index=False,)"
   ]
  },
  {
   "cell_type": "code",
   "execution_count": 10,
   "id": "fb011068",
   "metadata": {},
   "outputs": [
    {
     "data": {
      "text/html": [
       "<div>\n",
       "<style scoped>\n",
       "    .dataframe tbody tr th:only-of-type {\n",
       "        vertical-align: middle;\n",
       "    }\n",
       "\n",
       "    .dataframe tbody tr th {\n",
       "        vertical-align: top;\n",
       "    }\n",
       "\n",
       "    .dataframe thead th {\n",
       "        text-align: right;\n",
       "    }\n",
       "</style>\n",
       "<table border=\"1\" class=\"dataframe\">\n",
       "  <thead>\n",
       "    <tr style=\"text-align: right;\">\n",
       "      <th></th>\n",
       "      <th>youtube_channel</th>\n",
       "      <th>title</th>\n",
       "      <th>tags</th>\n",
       "      <th>timestamps</th>\n",
       "      <th>link</th>\n",
       "    </tr>\n",
       "  </thead>\n",
       "  <tbody>\n",
       "    <tr>\n",
       "      <th>0</th>\n",
       "      <td>Lex Fridman</td>\n",
       "      <td>Jared Kushner: Israel, Palestine, Hamas, Gaza,...</td>\n",
       "      <td>['agi', 'ai', 'ai podcast', 'artificial intell...</td>\n",
       "      <td>{'0:00 ': '- Introduction', '1:17 ': '- Hamas ...</td>\n",
       "      <td>https://www.youtube.com/watch?v=co_MeKSnyAo&amp;t=...</td>\n",
       "    </tr>\n",
       "  </tbody>\n",
       "</table>\n",
       "</div>"
      ],
      "text/plain": [
       "  youtube_channel                                              title  \\\n",
       "0     Lex Fridman  Jared Kushner: Israel, Palestine, Hamas, Gaza,...   \n",
       "\n",
       "                                                tags  \\\n",
       "0  ['agi', 'ai', 'ai podcast', 'artificial intell...   \n",
       "\n",
       "                                          timestamps  \\\n",
       "0  {'0:00 ': '- Introduction', '1:17 ': '- Hamas ...   \n",
       "\n",
       "                                                link  \n",
       "0  https://www.youtube.com/watch?v=co_MeKSnyAo&t=...  "
      ]
     },
     "execution_count": 10,
     "metadata": {},
     "output_type": "execute_result"
    }
   ],
   "source": [
    "df"
   ]
  },
  {
   "cell_type": "code",
   "execution_count": null,
   "id": "d9d35240",
   "metadata": {},
   "outputs": [],
   "source": []
  }
 ],
 "metadata": {
  "kernelspec": {
   "display_name": "Python 3 (ipykernel)",
   "language": "python",
   "name": "python3"
  },
  "language_info": {
   "codemirror_mode": {
    "name": "ipython",
    "version": 3
   },
   "file_extension": ".py",
   "mimetype": "text/x-python",
   "name": "python",
   "nbconvert_exporter": "python",
   "pygments_lexer": "ipython3",
   "version": "3.11.4"
  }
 },
 "nbformat": 4,
 "nbformat_minor": 5
}
